{
 "cells": [
  {
   "cell_type": "markdown",
   "metadata": {},
   "source": [
    "# Playing with the gensim coherence measures"
   ]
  },
  {
   "cell_type": "markdown",
   "metadata": {},
   "source": [
    "## Introduction"
   ]
  },
  {
   "cell_type": "markdown",
   "metadata": {},
   "source": [
    "Testing out difference 'coherence' pipeline combinations.\n",
    "Topic models: LDA, NNMF, LSA, PCA + varimax"
   ]
  },
  {
   "cell_type": "code",
   "execution_count": 2,
   "metadata": {},
   "outputs": [
    {
     "name": "stdout",
     "output_type": "stream",
     "text": [
      "The autoreload extension is already loaded. To reload it, use:\n",
      "  %reload_ext autoreload\n"
     ]
    },
    {
     "name": "stderr",
     "output_type": "stream",
     "text": [
      "/Users/timothypowell/anaconda2/envs/topicmodel/lib/python2.7/site-packages/ipywidgets/widgets/widget.py:281: DeprecationWarning: Widget registration using a string name has been deprecated. Widget registration now uses a plain `@register` decorator.\n",
      "  warnings.warn(\"Widget registration using a string name has been deprecated. Widget registration now uses a plain `@register` decorator.\", DeprecationWarning)\n",
      "/Users/timothypowell/anaconda2/envs/topicmodel/lib/python2.7/site-packages/qgrid/grid.py:573: DeprecationWarning: metadata {'sync': True} was set from the constructor. With traitlets 4.1, metadata should be set using the .tag() method, e.g., Int().tag(key1='value1', key2='value2')\n",
      "  _df_json = Unicode('', sync=True)\n"
     ]
    }
   ],
   "source": [
    "%load_ext autoreload\n",
    "%autoreload 2\n",
    "import logging\n",
    "import warnings\n",
    "import numpy as np\n",
    "import pandas as pd\n",
    "import io\n",
    "from process_topics import show_topic_words, run_all, coherence_widget, NewCoherence\n",
    "from gensim.models import CoherenceModel, LdaModel, HdpModel, nmf, LdaMulticore\n",
    "from gensim.corpora import Dictionary, csvcorpus\n",
    "from gensim.utils import simple_preprocess\n",
    "from gensim.parsing.preprocessing import *\n",
    "from time import time\n",
    "warnings.filterwarnings('ignore')  # To ignore all warnings that arise here to enhance clarity\n",
    "from ipywidgets import interact, interactive, IntSlider, Layout, interact_manual, fixed, interactive_output, FloatSlider\n",
    "import ipywidgets as widgets\n",
    "import qgrid\n",
    "import logging\n",
    "#logging.basicConfig(format='%(asctime)s : %(levelname)s : %(message)s', level=logging.ERROR)"
   ]
  },
  {
   "cell_type": "markdown",
   "metadata": {},
   "source": [
    "### Set up corpus"
   ]
  },
  {
   "cell_type": "markdown",
   "metadata": {},
   "source": [
    "Set up test corpus, should be tokenized, sotpwords removed"
   ]
  },
  {
   "cell_type": "code",
   "execution_count": 4,
   "metadata": {},
   "outputs": [
    {
     "name": "stdout",
     "output_type": "stream",
     "text": [
      "CPU times: user 3.47 s, sys: 140 ms, total: 3.61 s\n",
      "Wall time: 3.57 s\n"
     ]
    }
   ],
   "source": [
    "%%time\n",
    "# my_csv = pd.read_csv('..\\..\\wiki_movie_plots_deduped.csv')\n",
    "# plots = my_csv['Plot']\n",
    "elections = io.open('Election2008Paragraphes.txt',encoding = \"ISO-8859-1\")\n",
    "e  =elections.readlines()\n",
    "\n",
    "CUSTOM_FILTERS = [lambda x: x.lower(),  strip_punctuation, strip_multiple_whitespaces, strip_numeric,remove_stopwords, strip_short]\n",
    "\n",
    "texts = [preprocess_string(line, filters=CUSTOM_FILTERS) for line in e]\n",
    "\n",
    "\n",
    "dictionary = Dictionary(texts)\n",
    "corpus = [dictionary.doc2bow(text) for text in texts]\n",
    "data = [texts, dictionary, corpus]\n"
   ]
  },
  {
   "cell_type": "code",
   "execution_count": 5,
   "metadata": {},
   "outputs": [
    {
     "data": {
      "application/vnd.jupyter.widget-view+json": {
       "model_id": "c6ac9e1f6bec402fa357b5842de0d0d2",
       "version_major": 2,
       "version_minor": 0
      },
      "text/plain": [
       "aW50ZXJhY3RpdmUoY2hpbGRyZW49KFJhZGlvQnV0dG9ucyhkZXNjcmlwdGlvbj11J0Nob29zZSBNb2RlbCcsIGxheW91dD1MYXlvdXQod2lkdGg9dScyNTBweCcpLCBvcHRpb25zPSgnTk1GJyzigKY=\n"
      ]
     },
     "metadata": {},
     "output_type": "display_data"
    }
   ],
   "source": [
    "#changes made to FARotate in the code will require kernel restart if reloading this cell!\n",
    "m = coherence_widget(data)\n",
    "display(m)\n"
   ]
  },
  {
   "cell_type": "code",
   "execution_count": 5,
   "metadata": {},
   "outputs": [],
   "source": [
    "topics, coherences, both= m.result"
   ]
  },
  {
   "cell_type": "code",
   "execution_count": 6,
   "metadata": {},
   "outputs": [
    {
     "data": {
      "text/plain": [
       "[{'Topic': u'years troops today ago question safer percent gas bring stations'},\n",
       " {'Topic': u'oil america china new radical transportation million regimes security energy'},\n",
       " {'Topic': u'plan opposed irish general need biden year security fund americans'},\n",
       " {'Topic': u'iraq sunnis oil interests federalism revenues constitution shiites kurds work'},\n",
       " {'Topic': u'government foreign trust central oil sunnis policy capacity relations ago'},\n",
       " {'Topic': u'iraq plan president administration troops leaving necessary strategy leave home'},\n",
       " {'Topic': u'way iraq political best strategy america states start help military'},\n",
       " {'Topic': u'war civil president middle end wrong afghanistan cars regional send'},\n",
       " {'Topic': u'iraq committee political policy want options public dynamics main national'},\n",
       " {'Topic': u'american billion year irish fund biden mother new senator people'}]"
      ]
     },
     "execution_count": 6,
     "metadata": {},
     "output_type": "execute_result"
    }
   ],
   "source": [
    "topics"
   ]
  },
  {
   "cell_type": "code",
   "execution_count": 7,
   "metadata": {},
   "outputs": [],
   "source": [
    "from process_topics import coherence_scores\n",
    "from similarity import *\n"
   ]
  },
  {
   "cell_type": "code",
   "execution_count": 8,
   "metadata": {},
   "outputs": [
    {
     "name": "stdout",
     "output_type": "stream",
     "text": [
      "10\n"
     ]
    },
    {
     "data": {
      "application/vnd.jupyter.widget-view+json": {
       "model_id": "98456d0e42484756b5352181bbfcc382",
       "version_major": 2,
       "version_minor": 0
      },
      "text/plain": [
       "VkJveChjaGlsZHJlbj0oSW50U2xpZGVyKHZhbHVlPTEwLCBkZXNjcmlwdGlvbj11J3cnLCBsYXlvdXQ9TGF5b3V0KGhlaWdodD11JzMwcHgnLCB3aWR0aD11JzEwMDBweCcpLCBtYXg9MTAwMCnigKY=\n"
      ]
     },
     "metadata": {},
     "output_type": "display_data"
    },
    {
     "data": {
      "application/vnd.jupyter.widget-view+json": {
       "model_id": "90d0ac90b0584b34a06fa40696fba39e",
       "version_major": 2,
       "version_minor": 0
      },
      "text/plain": [
       "Output(layout=Layout(height=u'500px'))"
      ]
     },
     "metadata": {},
     "output_type": "display_data"
    }
   ],
   "source": [
    "from __future__ import division\n",
    "\n",
    "style = {'width': '1000px', 'height': '30px'}\n",
    "\n",
    "w=IntSlider(10,0,1000, description = 'w',layout=style)\n",
    "w2=IntSlider(10,0,1000, description = 'w2',layout=style) \n",
    "co=IntSlider(10,0,1000, description = 'co',layout=style)\n",
    "ndocs=IntSlider(1000,0,10000, description = 'ndocs',layout=style)\n",
    "print co.value\n",
    "exp = FloatSlider(value=0.0, min=0, max=20, description='exp', layout=style)\n",
    "joint = FloatSlider(value=0.0, min=0, max=20, description='exp', layout=style)\n",
    "\n",
    "exp.style.handle_color= 'yellow'\n",
    "#print widgets.__dict__\n",
    "ui = widgets.VBox([w, w2, co, ndocs,exp])\n",
    "\n",
    "    \n",
    "def similarities(w,w2,co,ndocs, held=[]):\n",
    "    scores = calculate_sims(w,w2,co,ndocs,'all')\n",
    "    #held.append(w)\n",
    "    display(pd.DataFrame(scores))\n",
    "    return scores\n",
    "\n",
    "e =interactive_output(similarities,\n",
    "         {'w':w,'w2':w2,'co':co,'ndocs':ndocs})\n",
    "\n",
    "e.layout.height= '500px'\n",
    "display(ui,e)\n",
    "\n",
    "@e.capture()\n",
    "def set_exp_per_rest(change):\n",
    "    print (w.value+ w2.value)/ ndocs.value\n",
    "    exp.value = ((w.value+ w2.value)/ ndocs.value) *100\n",
    "    print exp.value \n",
    "    \n",
    "w.observe(set_exp_per_rest, names=\"value\")\n",
    "w2.observe(set_exp_per_rest, names=\"value\")\n",
    "co.observe(set_exp_per_rest, names=\"value\")\n",
    "ndocs.observe(set_exp_per_rest, names=\"value\")\n",
    "\n",
    "\n",
    "    "
   ]
  },
  {
   "cell_type": "code",
   "execution_count": 216,
   "metadata": {},
   "outputs": [
    {
     "data": {
      "application/vnd.jupyter.widget-view+json": {
       "model_id": "bdb4ba70c88b4249b397f4537ceea0b3",
       "version_major": 2,
       "version_minor": 0
      },
      "text/plain": [
       "Output()"
      ]
     },
     "metadata": {},
     "output_type": "display_data"
    },
    {
     "data": {
      "application/vnd.jupyter.widget-view+json": {
       "model_id": "7b5385bf71eb47bfb17579bc98cafa0b",
       "version_major": 2,
       "version_minor": 0
      },
      "text/plain": [
       "IntSlider(value=1, description=u'Slider', max=5, min=-5)"
      ]
     },
     "metadata": {},
     "output_type": "display_data"
    }
   ],
   "source": [
    "slider = widgets.IntSlider(min=-5, max=5, value=1, description='Slider')\n",
    "\n",
    "out = Output()\n",
    "display(out)\n",
    "\n",
    "\n",
    "@out.capture()\n",
    "def handle_slider_change(change):\n",
    "    print change['new']+10\n",
    "    print 'test'\n",
    "    slider.value = change['new']+10\n",
    "    \n",
    "\n",
    "slider.observe(handle_slider_change, names='value')\n",
    "display(slider)\n",
    "\n"
   ]
  },
  {
   "cell_type": "code",
   "execution_count": 269,
   "metadata": {},
   "outputs": [
    {
     "data": {
      "application/vnd.jupyter.widget-view+json": {
       "model_id": "ea61be1eb240464f8e17db82f85c6ab2",
       "version_major": 2,
       "version_minor": 0
      },
      "text/plain": [
       "Output()"
      ]
     },
     "metadata": {},
     "output_type": "display_data"
    },
    {
     "data": {
      "application/vnd.jupyter.widget-view+json": {
       "model_id": "e7f8940e9c314d9489cc8c9318e0d991",
       "version_major": 2,
       "version_minor": 0
      },
      "text/plain": [
       "VkJveChjaGlsZHJlbj0oSW50U2xpZGVyKHZhbHVlPTAsIGNvbnRpbnVvdXNfdXBkYXRlPUZhbHNlLCBkZXNjcmlwdGlvbj11J3cnKSwgSW50VGV4dCh2YWx1ZT0wLCBkZXNjcmlwdGlvbj11J3figKY=\n"
      ]
     },
     "metadata": {},
     "output_type": "display_data"
    }
   ],
   "source": [
    "out = Output()\n",
    "display(out)\n",
    "\n",
    "\n",
    "def test():\n",
    "    print 'test'\n",
    "    \n",
    "a = widgets.IntSlider(description=\"w\", continuous_update=False)\n",
    "b = widgets.IntText(description=\"w2\", continuous_update=False)\n",
    "c = widgets.IntSlider(description=\"Co\", continuous_update=True)\n",
    "d = widgets.IntSlider(description=\"n\", continuous_update=True)\n",
    "\n",
    "@out.capture()\n",
    "def handle_slider_change(change):\n",
    "    d.value +=change['new']\n",
    "    print d.value\n",
    "    \n",
    "a.observe(handle_slider_change,names='value')\n",
    "b.observe(handle_slider_change,names='value')\n",
    "\n",
    "# widgets.jsdlink((a, 'value'), (d, 'value'))\n",
    "# widgets.jsdlink((b, 'value'), (d, 'value'))\n",
    "# widgets.widget_link.Link((c, 'value'), (d, 'value'), transform=test\n",
    "widgets.VBox([a,b,c,d])\n"
   ]
  },
  {
   "cell_type": "code",
   "execution_count": 149,
   "metadata": {},
   "outputs": [
    {
     "data": {
      "application/vnd.jupyter.widget-view+json": {
       "model_id": "96b4bf6fbc7748c391e348da29ad0733",
       "version_major": 2,
       "version_minor": 0
      },
      "text/plain": [
       "IntSlider(value=0)"
      ]
     },
     "metadata": {},
     "output_type": "display_data"
    },
    {
     "data": {
      "application/vnd.jupyter.widget-view+json": {
       "model_id": "30cc7c42dd5f4348991523ba01cd0326",
       "version_major": 2,
       "version_minor": 0
      },
      "text/plain": [
       "Output()"
      ]
     },
     "metadata": {},
     "output_type": "display_data"
    },
    {
     "ename": "AttributeError",
     "evalue": "'IntSlider' object has no attribute 'onclick'",
     "output_type": "error",
     "traceback": [
      "\u001b[1;31m---------------------------------------------------------------------------\u001b[0m",
      "\u001b[1;31mAttributeError\u001b[0m                            Traceback (most recent call last)",
      "\u001b[1;32m<ipython-input-149-8568790a53d2>\u001b[0m in \u001b[0;36m<module>\u001b[1;34m()\u001b[0m\n\u001b[0;32m     12\u001b[0m \u001b[1;33m\u001b[0m\u001b[0m\n\u001b[0;32m     13\u001b[0m \u001b[0mw\u001b[0m\u001b[1;33m.\u001b[0m\u001b[0mobserve\u001b[0m\u001b[1;33m(\u001b[0m\u001b[0mcallback\u001b[0m\u001b[1;33m,\u001b[0m \u001b[0mnames\u001b[0m\u001b[1;33m=\u001b[0m\u001b[1;33m[\u001b[0m\u001b[1;34m'value'\u001b[0m\u001b[1;33m]\u001b[0m\u001b[1;33m)\u001b[0m\u001b[1;33m\u001b[0m\u001b[0m\n\u001b[1;32m---> 14\u001b[1;33m \u001b[0mw\u001b[0m\u001b[1;33m.\u001b[0m\u001b[0monclick\u001b[0m\u001b[1;33m\u001b[0m\u001b[0m\n\u001b[0m",
      "\u001b[1;31mAttributeError\u001b[0m: 'IntSlider' object has no attribute 'onclick'"
     ]
    }
   ],
   "source": [
    "from ipywidgets import *\n",
    "from IPython.display import display, HTML\n",
    "w = IntSlider()\n",
    "display(w)\n",
    "\n",
    "out = Output()\n",
    "display(out)\n",
    "\n",
    "@out.capture()\n",
    "def callback(change):\n",
    "    display(change)\n",
    "\n",
    "w.observe(callback, names=['value'])\n"
   ]
  },
  {
   "cell_type": "code",
   "execution_count": 127,
   "metadata": {},
   "outputs": [
    {
     "name": "stdout",
     "output_type": "stream",
     "text": [
      "[(0, 1), (0, 2), (0, 3), (0, 4), (0, 5), (0, 6), (0, 7), (0, 8), (0, 9), (1, 2), (1, 3), (1, 4), (1, 5), (1, 6), (1, 7), (1, 8), (1, 9), (2, 3), (2, 4), (2, 5), (2, 6), (2, 7), (2, 8), (2, 9), (3, 4), (3, 5), (3, 6), (3, 7), (3, 8), (3, 9), (4, 5), (4, 6), (4, 7), (4, 8), (4, 9), (5, 6), (5, 7), (5, 8), (5, 9), (6, 7), (6, 8), (6, 9), (7, 8), (7, 9), (8, 9)]\n",
      "45\n"
     ]
    }
   ],
   "source": [
    "\n",
    "\n",
    "from itertools import combinations\n",
    "l = range(10)\n",
    "cl =list(combinations(l,2))\n",
    "print cl\n",
    "print(len(cl))\n",
    "e = None\n"
   ]
  },
  {
   "cell_type": "code",
   "execution_count": 121,
   "metadata": {},
   "outputs": [
    {
     "name": "stdout",
     "output_type": "stream",
     "text": [
      "17.8666666667\n",
      "[]\n"
     ]
    }
   ],
   "source": [
    "\n",
    "print np.average(combo2,weights=weights)\n",
    "topics= [['years','troops','capital'],['years','troops']]\n",
    "\n",
    "from segmentation import segment_with_weights\n",
    "t,w= segment_with_weights(topics)\n",
    "w=[]\n",
    "print zip(t,w)"
   ]
  },
  {
   "cell_type": "code",
   "execution_count": 44,
   "metadata": {},
   "outputs": [
    {
     "name": "stdout",
     "output_type": "stream",
     "text": [
      "[[0 0 0 0 3]\n",
      " [0 0 2 1 1]\n",
      " [0 2 0 1 1]\n",
      " [0 1 1 0 0]\n",
      " [3 1 1 0 0]]\n",
      "  (4, 0)\t3\n",
      "  (0, 0)\t0\n",
      "  (3, 1)\t1\n",
      "  (4, 1)\t1\n",
      "  (1, 1)\t0\n",
      "  (2, 1)\t2\n",
      "  (3, 2)\t1\n",
      "  (4, 2)\t1\n",
      "  (1, 2)\t2\n",
      "  (2, 2)\t0\n",
      "  (1, 3)\t1\n",
      "  (2, 3)\t1\n",
      "  (3, 3)\t0\n",
      "  (1, 4)\t1\n",
      "  (2, 4)\t1\n",
      "  (4, 4)\t0\n",
      "  (0, 4)\t3\n"
     ]
    }
   ],
   "source": [
    "from sklearn.feature_extraction.text import CountVectorizer\n",
    "docs = ['this this this book',\n",
    "        'this cat good',\n",
    "        'cat good shit']\n",
    "count_model = CountVectorizer(ngram_range=(1,1)) # default unigram model\n",
    "X = count_model.fit_transform(docs)\n",
    "# X[X > 0] = 1 # run this line if you don't want extra within-text cooccurence (see below)\n",
    "Xc = (X.T * X) # this is co-occurrence matrix in sparse csr format\n",
    "Xc.setdiag(0) # sometimes you want to fill same word cooccurence to 0\n",
    "print(Xc.todense()) # print out matrix in dense format\n",
    "print Xc"
   ]
  },
  {
   "cell_type": "code",
   "execution_count": 163,
   "metadata": {},
   "outputs": [
    {
     "name": "stdout",
     "output_type": "stream",
     "text": [
      "1.38854848684e-05\n"
     ]
    }
   ],
   "source": [
    "print int(3254)/ 234345435.6"
   ]
  },
  {
   "cell_type": "code",
   "execution_count": null,
   "metadata": {},
   "outputs": [],
   "source": []
  }
 ],
 "metadata": {
  "kernelspec": {
   "display_name": "Python 2",
   "language": "python",
   "name": "python2"
  },
  "language_info": {
   "codemirror_mode": {
    "name": "ipython",
    "version": 2
   },
   "file_extension": ".py",
   "mimetype": "text/x-python",
   "name": "python",
   "nbconvert_exporter": "python",
   "pygments_lexer": "ipython2",
   "version": "2.7.15"
  }
 },
 "nbformat": 4,
 "nbformat_minor": 2
}
